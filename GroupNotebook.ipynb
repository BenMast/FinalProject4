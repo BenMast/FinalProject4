{
 "cells": [
  {
   "cell_type": "markdown",
   "metadata": {},
   "source": [
    "Group Notebook"
   ]
  },
  {
   "cell_type": "code",
   "execution_count": 1,
   "metadata": {},
   "outputs": [],
   "source": [
    "import pandas as pd\n",
    "import numpy as np\n",
    "pools = pd.read_csv(\"PoolData.csv\")"
   ]
  },
  {
   "cell_type": "code",
   "execution_count": 2,
   "metadata": {},
   "outputs": [
    {
     "data": {
      "text/plain": [
       "South Side Flats            2\n",
       "Highland Park               2\n",
       "Banksville                  1\n",
       "Squirrel Hill South         1\n",
       "Westwood                    1\n",
       "Polish Hill                 1\n",
       "Greenfield                  1\n",
       "Lincoln Place               1\n",
       "Brighton Heights            1\n",
       "Lincoln-Lemington-Belmar    1\n",
       "South Side Slopes           1\n",
       "Bedford Dwellings           1\n",
       "Carrick                     1\n",
       "Shadyside                   1\n",
       "Mount Washington            1\n",
       "Homewood South              1\n",
       "Beltzhoover                 1\n",
       "Allegheny Center            1\n",
       "Bloomfield                  1\n",
       "Perry North                 1\n",
       "East Hills                  1\n",
       "Sheraden                    1\n",
       "Hazelwood                   1\n",
       "Troy Hill                   1\n",
       "Brookline                   1\n",
       "Beechview                   1\n",
       "Name: neighborhood, dtype: int64"
      ]
     },
     "execution_count": 2,
     "metadata": {},
     "output_type": "execute_result"
    }
   ],
   "source": [
    "pools['neighborhood'].value_counts()"
   ]
  },
  {
   "cell_type": "code",
   "execution_count": null,
   "metadata": {},
   "outputs": [],
   "source": []
  }
 ],
 "metadata": {
  "kernelspec": {
   "display_name": "Python 3",
   "language": "python",
   "name": "python3"
  },
  "language_info": {
   "codemirror_mode": {
    "name": "ipython",
    "version": 3
   },
   "file_extension": ".py",
   "mimetype": "text/x-python",
   "name": "python",
   "nbconvert_exporter": "python",
   "pygments_lexer": "ipython3",
   "version": "3.8.5"
  }
 },
 "nbformat": 4,
 "nbformat_minor": 4
}

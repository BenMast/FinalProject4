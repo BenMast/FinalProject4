{
 "cells": [
  {
   "cell_type": "code",
   "execution_count": 2,
   "metadata": {},
   "outputs": [],
   "source": [
    "import pandas as pd\n",
    "import numpy as np\n",
    "pools = pd.read_csv(\"PoolData.csv\")"
   ]
  },
  {
   "cell_type": "markdown",
   "metadata": {},
   "source": [
    "Here I'm importing the data set for all the pools as well as pandas. "
   ]
  },
  {
   "cell_type": "code",
   "execution_count": 19,
   "metadata": {},
   "outputs": [
    {
     "data": {
      "text/html": [
       "<div>\n",
       "<style scoped>\n",
       "    .dataframe tbody tr th:only-of-type {\n",
       "        vertical-align: middle;\n",
       "    }\n",
       "\n",
       "    .dataframe tbody tr th {\n",
       "        vertical-align: top;\n",
       "    }\n",
       "\n",
       "    .dataframe thead th {\n",
       "        text-align: right;\n",
       "    }\n",
       "</style>\n",
       "<table border=\"1\" class=\"dataframe\">\n",
       "  <thead>\n",
       "    <tr style=\"text-align: right;\">\n",
       "      <th></th>\n",
       "      <th>id</th>\n",
       "      <th>name</th>\n",
       "      <th>type</th>\n",
       "      <th>retired</th>\n",
       "      <th>water_source</th>\n",
       "      <th>capacity</th>\n",
       "      <th>image</th>\n",
       "      <th>neighborhood</th>\n",
       "      <th>council_district</th>\n",
       "      <th>ward</th>\n",
       "      <th>tract</th>\n",
       "      <th>public_works_division</th>\n",
       "      <th>pli_division</th>\n",
       "      <th>police_zone</th>\n",
       "      <th>fire_zone</th>\n",
       "      <th>latitude</th>\n",
       "      <th>longitude</th>\n",
       "    </tr>\n",
       "  </thead>\n",
       "  <tbody>\n",
       "    <tr>\n",
       "      <th>0</th>\n",
       "      <td>899591542</td>\n",
       "      <td>Ammon</td>\n",
       "      <td>Pool</td>\n",
       "      <td>NaN</td>\n",
       "      <td>Pittsburgh Water and Sewer Authority</td>\n",
       "      <td>538000.0</td>\n",
       "      <td>https://tools.wprdc.org/images/pittsburgh/pool...</td>\n",
       "      <td>Bedford Dwellings</td>\n",
       "      <td>6</td>\n",
       "      <td>5</td>\n",
       "      <td>42003050900</td>\n",
       "      <td>3</td>\n",
       "      <td>5</td>\n",
       "      <td>2</td>\n",
       "      <td>2-5</td>\n",
       "      <td>40.448720</td>\n",
       "      <td>-79.978325</td>\n",
       "    </tr>\n",
       "    <tr>\n",
       "      <th>1</th>\n",
       "      <td>1003800828</td>\n",
       "      <td>Banksville</td>\n",
       "      <td>Pool</td>\n",
       "      <td>NaN</td>\n",
       "      <td>Pennsylvania American Water</td>\n",
       "      <td>166320.0</td>\n",
       "      <td>https://tools.wprdc.org/images/pittsburgh/pool...</td>\n",
       "      <td>Banksville</td>\n",
       "      <td>2</td>\n",
       "      <td>20</td>\n",
       "      <td>42003202300</td>\n",
       "      <td>5</td>\n",
       "      <td>20</td>\n",
       "      <td>6</td>\n",
       "      <td>4-9</td>\n",
       "      <td>40.414758</td>\n",
       "      <td>-80.040551</td>\n",
       "    </tr>\n",
       "    <tr>\n",
       "      <th>2</th>\n",
       "      <td>1688544652</td>\n",
       "      <td>Beechview Spray Park</td>\n",
       "      <td>Spray Park</td>\n",
       "      <td>NaN</td>\n",
       "      <td>Pennsylvania American Water</td>\n",
       "      <td>NaN</td>\n",
       "      <td>https://tools.wprdc.org/images/pittsburgh/pool...</td>\n",
       "      <td>Beechview</td>\n",
       "      <td>4</td>\n",
       "      <td>19</td>\n",
       "      <td>42003191600</td>\n",
       "      <td>5</td>\n",
       "      <td>19</td>\n",
       "      <td>6</td>\n",
       "      <td>4-28</td>\n",
       "      <td>40.414989</td>\n",
       "      <td>-80.019170</td>\n",
       "    </tr>\n",
       "    <tr>\n",
       "      <th>3</th>\n",
       "      <td>1533382756</td>\n",
       "      <td>Bloomfield</td>\n",
       "      <td>Pool</td>\n",
       "      <td>NaN</td>\n",
       "      <td>Pittsburgh Water and Sewer Authority</td>\n",
       "      <td>335000.0</td>\n",
       "      <td>https://tools.wprdc.org/images/pittsburgh/pool...</td>\n",
       "      <td>Bloomfield</td>\n",
       "      <td>7</td>\n",
       "      <td>8</td>\n",
       "      <td>42003080200</td>\n",
       "      <td>2</td>\n",
       "      <td>8</td>\n",
       "      <td>5</td>\n",
       "      <td>3-1</td>\n",
       "      <td>40.461989</td>\n",
       "      <td>-79.953310</td>\n",
       "    </tr>\n",
       "    <tr>\n",
       "      <th>4</th>\n",
       "      <td>1287441950</td>\n",
       "      <td>Burgwin Spray Park</td>\n",
       "      <td>Spray Park</td>\n",
       "      <td>NaN</td>\n",
       "      <td>Pittsburgh Water and Sewer Authority</td>\n",
       "      <td>NaN</td>\n",
       "      <td>https://tools.wprdc.org/images/pittsburgh/pool...</td>\n",
       "      <td>Hazelwood</td>\n",
       "      <td>5</td>\n",
       "      <td>15</td>\n",
       "      <td>42003562300</td>\n",
       "      <td>3</td>\n",
       "      <td>15</td>\n",
       "      <td>4</td>\n",
       "      <td>2-13</td>\n",
       "      <td>40.405065</td>\n",
       "      <td>-79.936896</td>\n",
       "    </tr>\n",
       "  </tbody>\n",
       "</table>\n",
       "</div>"
      ],
      "text/plain": [
       "           id                  name        type  retired  \\\n",
       "0   899591542                 Ammon        Pool      NaN   \n",
       "1  1003800828            Banksville        Pool      NaN   \n",
       "2  1688544652  Beechview Spray Park  Spray Park      NaN   \n",
       "3  1533382756            Bloomfield        Pool      NaN   \n",
       "4  1287441950    Burgwin Spray Park  Spray Park      NaN   \n",
       "\n",
       "                           water_source  capacity  \\\n",
       "0  Pittsburgh Water and Sewer Authority  538000.0   \n",
       "1           Pennsylvania American Water  166320.0   \n",
       "2           Pennsylvania American Water       NaN   \n",
       "3  Pittsburgh Water and Sewer Authority  335000.0   \n",
       "4  Pittsburgh Water and Sewer Authority       NaN   \n",
       "\n",
       "                                               image       neighborhood  \\\n",
       "0  https://tools.wprdc.org/images/pittsburgh/pool...  Bedford Dwellings   \n",
       "1  https://tools.wprdc.org/images/pittsburgh/pool...         Banksville   \n",
       "2  https://tools.wprdc.org/images/pittsburgh/pool...          Beechview   \n",
       "3  https://tools.wprdc.org/images/pittsburgh/pool...         Bloomfield   \n",
       "4  https://tools.wprdc.org/images/pittsburgh/pool...          Hazelwood   \n",
       "\n",
       "   council_district  ward        tract  public_works_division  pli_division  \\\n",
       "0                 6     5  42003050900                      3             5   \n",
       "1                 2    20  42003202300                      5            20   \n",
       "2                 4    19  42003191600                      5            19   \n",
       "3                 7     8  42003080200                      2             8   \n",
       "4                 5    15  42003562300                      3            15   \n",
       "\n",
       "   police_zone fire_zone   latitude  longitude  \n",
       "0            2       2-5  40.448720 -79.978325  \n",
       "1            6       4-9  40.414758 -80.040551  \n",
       "2            6      4-28  40.414989 -80.019170  \n",
       "3            5       3-1  40.461989 -79.953310  \n",
       "4            4      2-13  40.405065 -79.936896  "
      ]
     },
     "execution_count": 19,
     "metadata": {},
     "output_type": "execute_result"
    }
   ],
   "source": [
    "pools.head(5)"
   ]
  },
  {
   "cell_type": "markdown",
   "metadata": {},
   "source": [
    "Just printed the data set to make sure it's all good."
   ]
  },
  {
   "cell_type": "code",
   "execution_count": 20,
   "metadata": {},
   "outputs": [
    {
     "data": {
      "text/html": [
       "<div>\n",
       "<style scoped>\n",
       "    .dataframe tbody tr th:only-of-type {\n",
       "        vertical-align: middle;\n",
       "    }\n",
       "\n",
       "    .dataframe tbody tr th {\n",
       "        vertical-align: top;\n",
       "    }\n",
       "\n",
       "    .dataframe thead th {\n",
       "        text-align: right;\n",
       "    }\n",
       "</style>\n",
       "<table border=\"1\" class=\"dataframe\">\n",
       "  <thead>\n",
       "    <tr style=\"text-align: right;\">\n",
       "      <th></th>\n",
       "      <th>id</th>\n",
       "      <th>name</th>\n",
       "      <th>type</th>\n",
       "      <th>retired</th>\n",
       "      <th>water_source</th>\n",
       "      <th>capacity</th>\n",
       "      <th>image</th>\n",
       "      <th>neighborhood</th>\n",
       "      <th>council_district</th>\n",
       "      <th>ward</th>\n",
       "      <th>tract</th>\n",
       "      <th>public_works_division</th>\n",
       "      <th>pli_division</th>\n",
       "      <th>police_zone</th>\n",
       "      <th>fire_zone</th>\n",
       "      <th>latitude</th>\n",
       "      <th>longitude</th>\n",
       "    </tr>\n",
       "  </thead>\n",
       "  <tbody>\n",
       "    <tr>\n",
       "      <th>0</th>\n",
       "      <td>899591542</td>\n",
       "      <td>Ammon</td>\n",
       "      <td>Pool</td>\n",
       "      <td>NaN</td>\n",
       "      <td>Pittsburgh Water and Sewer Authority</td>\n",
       "      <td>538000.0</td>\n",
       "      <td>https://tools.wprdc.org/images/pittsburgh/pool...</td>\n",
       "      <td>Bedford Dwellings</td>\n",
       "      <td>6</td>\n",
       "      <td>5</td>\n",
       "      <td>42003050900</td>\n",
       "      <td>3</td>\n",
       "      <td>5</td>\n",
       "      <td>2</td>\n",
       "      <td>2-5</td>\n",
       "      <td>40.448720</td>\n",
       "      <td>-79.978325</td>\n",
       "    </tr>\n",
       "    <tr>\n",
       "      <th>1</th>\n",
       "      <td>1003800828</td>\n",
       "      <td>Banksville</td>\n",
       "      <td>Pool</td>\n",
       "      <td>NaN</td>\n",
       "      <td>Pennsylvania American Water</td>\n",
       "      <td>166320.0</td>\n",
       "      <td>https://tools.wprdc.org/images/pittsburgh/pool...</td>\n",
       "      <td>Banksville</td>\n",
       "      <td>2</td>\n",
       "      <td>20</td>\n",
       "      <td>42003202300</td>\n",
       "      <td>5</td>\n",
       "      <td>20</td>\n",
       "      <td>6</td>\n",
       "      <td>4-9</td>\n",
       "      <td>40.414758</td>\n",
       "      <td>-80.040551</td>\n",
       "    </tr>\n",
       "    <tr>\n",
       "      <th>3</th>\n",
       "      <td>1533382756</td>\n",
       "      <td>Bloomfield</td>\n",
       "      <td>Pool</td>\n",
       "      <td>NaN</td>\n",
       "      <td>Pittsburgh Water and Sewer Authority</td>\n",
       "      <td>335000.0</td>\n",
       "      <td>https://tools.wprdc.org/images/pittsburgh/pool...</td>\n",
       "      <td>Bloomfield</td>\n",
       "      <td>7</td>\n",
       "      <td>8</td>\n",
       "      <td>42003080200</td>\n",
       "      <td>2</td>\n",
       "      <td>8</td>\n",
       "      <td>5</td>\n",
       "      <td>3-1</td>\n",
       "      <td>40.461989</td>\n",
       "      <td>-79.953310</td>\n",
       "    </tr>\n",
       "    <tr>\n",
       "      <th>7</th>\n",
       "      <td>1475037865</td>\n",
       "      <td>Highland - Children</td>\n",
       "      <td>Pool</td>\n",
       "      <td>NaN</td>\n",
       "      <td>Pittsburgh Water and Sewer Authority</td>\n",
       "      <td>NaN</td>\n",
       "      <td>https://tools.wprdc.org/images/pittsburgh/pool...</td>\n",
       "      <td>Highland Park</td>\n",
       "      <td>7</td>\n",
       "      <td>11</td>\n",
       "      <td>42003980100</td>\n",
       "      <td>2</td>\n",
       "      <td>11</td>\n",
       "      <td>5</td>\n",
       "      <td>3-9</td>\n",
       "      <td>40.482011</td>\n",
       "      <td>-79.911280</td>\n",
       "    </tr>\n",
       "    <tr>\n",
       "      <th>8</th>\n",
       "      <td>5446687</td>\n",
       "      <td>Highland - Main</td>\n",
       "      <td>Pool</td>\n",
       "      <td>NaN</td>\n",
       "      <td>Pittsburgh Water and Sewer Authority</td>\n",
       "      <td>560242.0</td>\n",
       "      <td>https://tools.wprdc.org/images/pittsburgh/pool...</td>\n",
       "      <td>Highland Park</td>\n",
       "      <td>7</td>\n",
       "      <td>11</td>\n",
       "      <td>42003980100</td>\n",
       "      <td>2</td>\n",
       "      <td>11</td>\n",
       "      <td>5</td>\n",
       "      <td>3-9</td>\n",
       "      <td>40.482170</td>\n",
       "      <td>-79.910927</td>\n",
       "    </tr>\n",
       "  </tbody>\n",
       "</table>\n",
       "</div>"
      ],
      "text/plain": [
       "           id                 name  type  retired  \\\n",
       "0   899591542                Ammon  Pool      NaN   \n",
       "1  1003800828           Banksville  Pool      NaN   \n",
       "3  1533382756           Bloomfield  Pool      NaN   \n",
       "7  1475037865  Highland - Children  Pool      NaN   \n",
       "8     5446687      Highland - Main  Pool      NaN   \n",
       "\n",
       "                           water_source  capacity  \\\n",
       "0  Pittsburgh Water and Sewer Authority  538000.0   \n",
       "1           Pennsylvania American Water  166320.0   \n",
       "3  Pittsburgh Water and Sewer Authority  335000.0   \n",
       "7  Pittsburgh Water and Sewer Authority       NaN   \n",
       "8  Pittsburgh Water and Sewer Authority  560242.0   \n",
       "\n",
       "                                               image       neighborhood  \\\n",
       "0  https://tools.wprdc.org/images/pittsburgh/pool...  Bedford Dwellings   \n",
       "1  https://tools.wprdc.org/images/pittsburgh/pool...         Banksville   \n",
       "3  https://tools.wprdc.org/images/pittsburgh/pool...         Bloomfield   \n",
       "7  https://tools.wprdc.org/images/pittsburgh/pool...      Highland Park   \n",
       "8  https://tools.wprdc.org/images/pittsburgh/pool...      Highland Park   \n",
       "\n",
       "   council_district  ward        tract  public_works_division  pli_division  \\\n",
       "0                 6     5  42003050900                      3             5   \n",
       "1                 2    20  42003202300                      5            20   \n",
       "3                 7     8  42003080200                      2             8   \n",
       "7                 7    11  42003980100                      2            11   \n",
       "8                 7    11  42003980100                      2            11   \n",
       "\n",
       "   police_zone fire_zone   latitude  longitude  \n",
       "0            2       2-5  40.448720 -79.978325  \n",
       "1            6       4-9  40.414758 -80.040551  \n",
       "3            5       3-1  40.461989 -79.953310  \n",
       "7            5       3-9  40.482011 -79.911280  \n",
       "8            5       3-9  40.482170 -79.910927  "
      ]
     },
     "execution_count": 20,
     "metadata": {},
     "output_type": "execute_result"
    }
   ],
   "source": [
    "query_mask = pools['type'] == \"Pool\"\n",
    "justPools = pools[query_mask]\n",
    "justPools.head(5)"
   ]
  },
  {
   "cell_type": "markdown",
   "metadata": {},
   "source": [
    "I used a query mask to sort out anything in the data set that wasn't a pool."
   ]
  },
  {
   "cell_type": "code",
   "execution_count": 8,
   "metadata": {},
   "outputs": [
    {
     "data": {
      "text/plain": [
       "Highland Park          2\n",
       "South Side Flats       2\n",
       "Homewood South         1\n",
       "Allegheny Center       1\n",
       "Brookline              1\n",
       "Squirrel Hill South    1\n",
       "Mount Washington       1\n",
       "Polish Hill            1\n",
       "Bloomfield             1\n",
       "Bedford Dwellings      1\n",
       "Perry North            1\n",
       "Banksville             1\n",
       "Lincoln Place          1\n",
       "Sheraden               1\n",
       "Greenfield             1\n",
       "Brighton Heights       1\n",
       "Westwood               1\n",
       "Carrick                1\n",
       "Name: neighborhood, dtype: int64"
      ]
     },
     "execution_count": 8,
     "metadata": {},
     "output_type": "execute_result"
    }
   ],
   "source": [
    "justPools['neighborhood'].value_counts()"
   ]
  },
  {
   "cell_type": "markdown",
   "metadata": {},
   "source": [
    "Use value_counts() to see how many pools there are per neighborhood."
   ]
  },
  {
   "cell_type": "code",
   "execution_count": 21,
   "metadata": {},
   "outputs": [
    {
     "data": {
      "text/html": [
       "<div>\n",
       "<style scoped>\n",
       "    .dataframe tbody tr th:only-of-type {\n",
       "        vertical-align: middle;\n",
       "    }\n",
       "\n",
       "    .dataframe tbody tr th {\n",
       "        vertical-align: top;\n",
       "    }\n",
       "\n",
       "    .dataframe thead th {\n",
       "        text-align: right;\n",
       "    }\n",
       "</style>\n",
       "<table border=\"1\" class=\"dataframe\">\n",
       "  <thead>\n",
       "    <tr style=\"text-align: right;\">\n",
       "      <th></th>\n",
       "      <th>id</th>\n",
       "      <th>name</th>\n",
       "      <th>type</th>\n",
       "      <th>retired</th>\n",
       "      <th>water_source</th>\n",
       "      <th>capacity</th>\n",
       "      <th>image</th>\n",
       "      <th>neighborhood</th>\n",
       "      <th>council_district</th>\n",
       "      <th>ward</th>\n",
       "      <th>tract</th>\n",
       "      <th>public_works_division</th>\n",
       "      <th>pli_division</th>\n",
       "      <th>police_zone</th>\n",
       "      <th>fire_zone</th>\n",
       "      <th>latitude</th>\n",
       "      <th>longitude</th>\n",
       "    </tr>\n",
       "  </thead>\n",
       "  <tbody>\n",
       "    <tr>\n",
       "      <th>2</th>\n",
       "      <td>1688544652</td>\n",
       "      <td>Beechview Spray Park</td>\n",
       "      <td>Spray Park</td>\n",
       "      <td>NaN</td>\n",
       "      <td>Pennsylvania American Water</td>\n",
       "      <td>NaN</td>\n",
       "      <td>https://tools.wprdc.org/images/pittsburgh/pool...</td>\n",
       "      <td>Beechview</td>\n",
       "      <td>4</td>\n",
       "      <td>19</td>\n",
       "      <td>42003191600</td>\n",
       "      <td>5</td>\n",
       "      <td>19</td>\n",
       "      <td>6</td>\n",
       "      <td>4-28</td>\n",
       "      <td>40.414989</td>\n",
       "      <td>-80.019170</td>\n",
       "    </tr>\n",
       "    <tr>\n",
       "      <th>4</th>\n",
       "      <td>1287441950</td>\n",
       "      <td>Burgwin Spray Park</td>\n",
       "      <td>Spray Park</td>\n",
       "      <td>NaN</td>\n",
       "      <td>Pittsburgh Water and Sewer Authority</td>\n",
       "      <td>NaN</td>\n",
       "      <td>https://tools.wprdc.org/images/pittsburgh/pool...</td>\n",
       "      <td>Hazelwood</td>\n",
       "      <td>5</td>\n",
       "      <td>15</td>\n",
       "      <td>42003562300</td>\n",
       "      <td>3</td>\n",
       "      <td>15</td>\n",
       "      <td>4</td>\n",
       "      <td>2-13</td>\n",
       "      <td>40.405065</td>\n",
       "      <td>-79.936896</td>\n",
       "    </tr>\n",
       "    <tr>\n",
       "      <th>5</th>\n",
       "      <td>168387727</td>\n",
       "      <td>Cowley Spray Park</td>\n",
       "      <td>Spray Park</td>\n",
       "      <td>NaN</td>\n",
       "      <td>Pittsburgh Water and Sewer Authority</td>\n",
       "      <td>NaN</td>\n",
       "      <td>https://tools.wprdc.org/images/pittsburgh/pool...</td>\n",
       "      <td>Troy Hill</td>\n",
       "      <td>1</td>\n",
       "      <td>24</td>\n",
       "      <td>42003240600</td>\n",
       "      <td>1</td>\n",
       "      <td>24</td>\n",
       "      <td>1</td>\n",
       "      <td>1-2</td>\n",
       "      <td>40.458739</td>\n",
       "      <td>-79.988366</td>\n",
       "    </tr>\n",
       "    <tr>\n",
       "      <th>6</th>\n",
       "      <td>1569871328</td>\n",
       "      <td>East Hills Spray Park</td>\n",
       "      <td>Spray Park</td>\n",
       "      <td>NaN</td>\n",
       "      <td>Wilkinsburg Penn</td>\n",
       "      <td>NaN</td>\n",
       "      <td>https://tools.wprdc.org/images/pittsburgh/pool...</td>\n",
       "      <td>East Hills</td>\n",
       "      <td>9</td>\n",
       "      <td>13</td>\n",
       "      <td>42003130600</td>\n",
       "      <td>2</td>\n",
       "      <td>13</td>\n",
       "      <td>5</td>\n",
       "      <td>3-19</td>\n",
       "      <td>40.453091</td>\n",
       "      <td>-79.871036</td>\n",
       "    </tr>\n",
       "    <tr>\n",
       "      <th>13</th>\n",
       "      <td>1622961249</td>\n",
       "      <td>Mellon Spray Park</td>\n",
       "      <td>Spray Park</td>\n",
       "      <td>NaN</td>\n",
       "      <td>Pittsburgh Water and Sewer Authority</td>\n",
       "      <td>NaN</td>\n",
       "      <td>https://tools.wprdc.org/images/pittsburgh/pool...</td>\n",
       "      <td>Shadyside</td>\n",
       "      <td>8</td>\n",
       "      <td>7</td>\n",
       "      <td>42003070800</td>\n",
       "      <td>2</td>\n",
       "      <td>7</td>\n",
       "      <td>4</td>\n",
       "      <td>3-13</td>\n",
       "      <td>40.454020</td>\n",
       "      <td>-79.915647</td>\n",
       "    </tr>\n",
       "  </tbody>\n",
       "</table>\n",
       "</div>"
      ],
      "text/plain": [
       "            id                   name        type  retired  \\\n",
       "2   1688544652   Beechview Spray Park  Spray Park      NaN   \n",
       "4   1287441950     Burgwin Spray Park  Spray Park      NaN   \n",
       "5    168387727      Cowley Spray Park  Spray Park      NaN   \n",
       "6   1569871328  East Hills Spray Park  Spray Park      NaN   \n",
       "13  1622961249      Mellon Spray Park  Spray Park      NaN   \n",
       "\n",
       "                            water_source  capacity  \\\n",
       "2            Pennsylvania American Water       NaN   \n",
       "4   Pittsburgh Water and Sewer Authority       NaN   \n",
       "5   Pittsburgh Water and Sewer Authority       NaN   \n",
       "6                       Wilkinsburg Penn       NaN   \n",
       "13  Pittsburgh Water and Sewer Authority       NaN   \n",
       "\n",
       "                                                image neighborhood  \\\n",
       "2   https://tools.wprdc.org/images/pittsburgh/pool...    Beechview   \n",
       "4   https://tools.wprdc.org/images/pittsburgh/pool...    Hazelwood   \n",
       "5   https://tools.wprdc.org/images/pittsburgh/pool...    Troy Hill   \n",
       "6   https://tools.wprdc.org/images/pittsburgh/pool...   East Hills   \n",
       "13  https://tools.wprdc.org/images/pittsburgh/pool...    Shadyside   \n",
       "\n",
       "    council_district  ward        tract  public_works_division  pli_division  \\\n",
       "2                  4    19  42003191600                      5            19   \n",
       "4                  5    15  42003562300                      3            15   \n",
       "5                  1    24  42003240600                      1            24   \n",
       "6                  9    13  42003130600                      2            13   \n",
       "13                 8     7  42003070800                      2             7   \n",
       "\n",
       "    police_zone fire_zone   latitude  longitude  \n",
       "2             6      4-28  40.414989 -80.019170  \n",
       "4             4      2-13  40.405065 -79.936896  \n",
       "5             1       1-2  40.458739 -79.988366  \n",
       "6             5      3-19  40.453091 -79.871036  \n",
       "13            4      3-13  40.454020 -79.915647  "
      ]
     },
     "execution_count": 21,
     "metadata": {},
     "output_type": "execute_result"
    }
   ],
   "source": [
    "query_mask2= pools['type'] == 'Spray Park'\n",
    "other = pools[query_mask2]\n",
    "other.head(5)"
   ]
  },
  {
   "cell_type": "markdown",
   "metadata": {},
   "source": [
    "Created another query mask for anything that isn't considered a pool"
   ]
  },
  {
   "cell_type": "code",
   "execution_count": 17,
   "metadata": {},
   "outputs": [
    {
     "data": {
      "text/plain": [
       "Hazelwood                   1\n",
       "East Hills                  1\n",
       "South Side Slopes           1\n",
       "Troy Hill                   1\n",
       "Beechview                   1\n",
       "Lincoln-Lemington-Belmar    1\n",
       "Beltzhoover                 1\n",
       "Shadyside                   1\n",
       "Name: neighborhood, dtype: int64"
      ]
     },
     "execution_count": 17,
     "metadata": {},
     "output_type": "execute_result"
    }
   ],
   "source": [
    "other['neighborhood'].value_counts()"
   ]
  },
  {
   "cell_type": "markdown",
   "metadata": {},
   "source": [
    "Used value_counts() again to determine the number of other water facilities in each neighborhood"
   ]
  },
  {
   "cell_type": "code",
   "execution_count": 4,
   "metadata": {},
   "outputs": [
    {
     "data": {
      "text/plain": [
       "Highland Park               2\n",
       "South Side Flats            2\n",
       "Banksville                  1\n",
       "Homewood South              1\n",
       "East Hills                  1\n",
       "Hazelwood                   1\n",
       "Shadyside                   1\n",
       "Polish Hill                 1\n",
       "Bedford Dwellings           1\n",
       "Greenfield                  1\n",
       "South Side Slopes           1\n",
       "Perry North                 1\n",
       "Lincoln Place               1\n",
       "Brookline                   1\n",
       "Lincoln-Lemington-Belmar    1\n",
       "Bloomfield                  1\n",
       "Sheraden                    1\n",
       "Troy Hill                   1\n",
       "Brighton Heights            1\n",
       "Squirrel Hill South         1\n",
       "Westwood                    1\n",
       "Carrick                     1\n",
       "Allegheny Center            1\n",
       "Beltzhoover                 1\n",
       "Beechview                   1\n",
       "Mount Washington            1\n",
       "Name: neighborhood, dtype: int64"
      ]
     },
     "execution_count": 4,
     "metadata": {},
     "output_type": "execute_result"
    }
   ],
   "source": [
    "pools['neighborhood'].value_counts()"
   ]
  },
  {
   "cell_type": "markdown",
   "metadata": {},
   "source": [
    "displaying total value counts"
   ]
  },
  {
   "cell_type": "code",
   "execution_count": 7,
   "metadata": {},
   "outputs": [
    {
     "data": {
      "text/plain": [
       "<AxesSubplot:xlabel='neighborhood'>"
      ]
     },
     "execution_count": 7,
     "metadata": {},
     "output_type": "execute_result"
    },
    {
     "data": {
      "image/png": "[encoded data removed]",
      "text/plain": [
       "<Figure size 432x288 with 1 Axes>"
      ]
     },
     "metadata": {
      "needs_background": "light"
     },
     "output_type": "display_data"
    }
   ],
   "source": [
    "pools.plot.bar(x='neighborhood', rot=0)"
   ]
  },
  {
   "cell_type": "markdown",
   "metadata": {},
   "source": [
    "Tried to create a bar graph, plotted all columns instead of just the number of pools"
   ]
  },
  {
   "cell_type": "code",
   "execution_count": 13,
   "metadata": {},
   "outputs": [
    {
     "data": {
      "text/plain": [
       "<AxesSubplot:>"
      ]
     },
     "execution_count": 13,
     "metadata": {},
     "output_type": "execute_result"
    },
    {
     "data": {
      "image/png": "[encoded data removed]",
      "text/plain": [
       "<Figure size 432x288 with 1 Axes>"
      ]
     },
     "metadata": {
      "needs_background": "light"
     },
     "output_type": "display_data"
    }
   ],
   "source": [
    "justPools['neighborhood'].value_counts().plot.bar(x='neighborhood')"
   ]
  },
  {
   "cell_type": "markdown",
   "metadata": {},
   "source": [
    "Used the value_counts instead to create bar graph, shows just the amount of pools (this chart specifically shows how many pools are for each neighborhood (no spray parks))"
   ]
  },
  {
   "cell_type": "code",
   "execution_count": 18,
   "metadata": {},
   "outputs": [
    {
     "data": {
      "text/plain": [
       "<AxesSubplot:>"
      ]
     },
     "execution_count": 18,
     "metadata": {},
     "output_type": "execute_result"
    },
    {
     "data": {
      "image/png": "[encoded data removed]",
      "text/plain": [
       "<Figure size 432x288 with 1 Axes>"
      ]
     },
     "metadata": {
      "needs_background": "light"
     },
     "output_type": "display_data"
    }
   ],
   "source": [
    "other['neighborhood'].value_counts().plot.bar(x='neighborhood')"
   ]
  },
  {
   "cell_type": "markdown",
   "metadata": {},
   "source": [
    "This bar chart shows which neighborhoods have spray parks"
   ]
  },
  {
   "cell_type": "code",
   "execution_count": 12,
   "metadata": {},
   "outputs": [
    {
     "data": {
      "text/plain": [
       "<AxesSubplot:>"
      ]
     },
     "execution_count": 12,
     "metadata": {},
     "output_type": "execute_result"
    },
    {
     "data": {
      "image/png": "[encoded data removed]",
      "text/plain": [
       "<Figure size 432x288 with 1 Axes>"
      ]
     },
     "metadata": {
      "needs_background": "light"
     },
     "output_type": "display_data"
    }
   ],
   "source": [
    "pools['neighborhood'].value_counts().plot.bar(x='neighborhood')"
   ]
  },
  {
   "cell_type": "markdown",
   "metadata": {},
   "source": [
    "This one shows which neighborhoods have the most pools and spray parks (note that the number of spray parks doesn't really affect whether Highland Park or South Side Flats is better because they both have 2 pools, 0 spray parks)"
   ]
  },
  {
   "cell_type": "markdown",
   "metadata": {},
   "source": [
    "#### The best neighborhoods in terms of access to pools (and spray parks) are: ####\n",
    "## Highland Park & South Side Flats ##\n"
   ]
  },
  {
   "cell_type": "code",
   "execution_count": null,
   "metadata": {},
   "outputs": [],
   "source": []
  }
 ],
 "metadata": {
  "kernelspec": {
   "display_name": "Python 3",
   "language": "python",
   "name": "python3"
  },
  "language_info": {
   "codemirror_mode": {
    "name": "ipython",
    "version": 3
   },
   "file_extension": ".py",
   "mimetype": "text/x-python",
   "name": "python",
   "nbconvert_exporter": "python",
   "pygments_lexer": "ipython3",
   "version": "3.8.5"
  }
 },
 "nbformat": 4,
 "nbformat_minor": 4
}
